{
 "cells": [
  {
   "cell_type": "markdown",
   "id": "be493d1a",
   "metadata": {},
   "source": [
    "# Runyoro Pronunciation Lexicon\n",
    "This notebook extracts unique words from the Runyoro Bible text and illustrates how to generate a pronunciation lexicon using [Phonetisaurus](https://github.com/AdolfVonKleist/Phonetisaurus)."
   ]
  },
  {
   "cell_type": "markdown",
   "id": "d0b745ee",
   "metadata": {},
   "source": [
    "## 1. Install dependencies\n",
    "Install Phonetisaurus via pip if it is not already available."
   ]
  },
  {
   "cell_type": "code",
   "execution_count": null,
   "id": "cdd2acbf",
   "metadata": {},
   "outputs": [],
   "source": [
    "!pip install -q phonetisaurus"
   ]
  },
  {
   "cell_type": "markdown",
   "id": "876b5319",
   "metadata": {},
   "source": [
    "## 2. Load the Runyoro Bible text\n",
    "We read the text file located at `../data/raw/runyoro_bible/runyoro_bible.txt`."
   ]
  },
  {
   "cell_type": "code",
   "execution_count": null,
   "id": "d7c11be4",
   "metadata": {},
   "outputs": [],
   "source": [
    "\n",
    "from pathlib import Path\n",
    "import re\n",
    "\n",
    "text_path = Path('../data/raw/runyoro_bible/runyoro_bible.txt')\n",
    "text = text_path.read_text(encoding='utf-8')\n",
    "print(text[:300])\n"
   ]
  },
  {
   "cell_type": "markdown",
   "id": "2f1e3dce",
   "metadata": {},
   "source": [
    "## 3. Extract unique words\n",
    "Use a regular expression to find alphabetic tokens and deduplicate them."
   ]
  },
  {
   "cell_type": "code",
   "execution_count": null,
   "id": "c3e54204",
   "metadata": {},
   "outputs": [],
   "source": [
    "\n",
    "words = re.findall(r\"[^\\W\\d_']+\", text, flags=re.UNICODE)\n",
    "unique_words = sorted(set(w.lower() for w in words))\n",
    "print(len(unique_words))\n",
    "unique_words[:20]\n"
   ]
  },
  {
   "cell_type": "markdown",
   "id": "2664f2ec",
   "metadata": {},
   "source": [
    "## 4. Save the word list\n",
    "The list of unique words is saved to `unique_words.txt`."
   ]
  },
  {
   "cell_type": "code",
   "execution_count": null,
   "id": "1477e7fa",
   "metadata": {},
   "outputs": [],
   "source": [
    "\n",
    "word_list_path = Path('unique_words.txt')\n",
    "word_list_path.write_text('\n",
    "'.join(unique_words), encoding='utf-8')\n",
    "word_list_path\n"
   ]
  },
  {
   "cell_type": "markdown",
   "id": "33243033",
   "metadata": {},
   "source": [
    "## 5. Generate pronunciations with Phonetisaurus\n",
    "If you already have a G2P model (`.fst` file), apply it to create the pronunciation lexicon. Replace `PATH_TO_MODEL.fst` with your model path."
   ]
  },
  {
   "cell_type": "code",
   "execution_count": null,
   "id": "4e720050",
   "metadata": {},
   "outputs": [],
   "source": [
    "\n",
    "!phonetisaurus-apply --model PATH_TO_MODEL.fst --word_list unique_words.txt --output lexicon.txt\n"
   ]
  },
  {
   "cell_type": "markdown",
   "id": "b5b083a2",
   "metadata": {},
   "source": [
    "### Training your own model\n",
    "If you do not yet have a model, you can train one using a corpus of word–pronunciation pairs. Once prepared, run a command like the following:"
   ]
  },
  {
   "cell_type": "code",
   "execution_count": null,
   "id": "624277bc",
   "metadata": {},
   "outputs": [],
   "source": [
    "\n",
    "!phonetisaurus-train --corpus g2p_corpus.csv --model_prefix my_g2p_model\n"
   ]
  },
  {
   "cell_type": "markdown",
   "id": "9f78a7d6",
   "metadata": {},
   "source": [
    "After training finishes, you will obtain `my_g2p_model.fst`. Use this file with `phonetisaurus-apply` as shown above to produce `lexicon.txt`."
   ]
  }
 ],
 "metadata": {},
 "nbformat": 4,
 "nbformat_minor": 5
}
